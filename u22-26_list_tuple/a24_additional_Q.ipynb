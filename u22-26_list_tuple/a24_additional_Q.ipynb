{
 "cells": [
  {
   "cell_type": "code",
   "execution_count": 6,
   "id": "fe65fc29",
   "metadata": {},
   "outputs": [
    {
     "name": "stdout",
     "output_type": "stream",
     "text": [
      "6\n",
      "28\n",
      "496\n",
      "8128\n"
     ]
    }
   ],
   "source": [
    "for i in range(1, 10001):\n",
    "    find_num = []\n",
    "    for k in range(1, i):\n",
    "        if (i % k == 0):\n",
    "            find_num.append(k)\n",
    "    if (sum(find_num) == i):\n",
    "        print(i)"
   ]
  },
  {
   "cell_type": "markdown",
   "id": "a1ddee70",
   "metadata": {},
   "source": [
    "# 15.4 심사문제\n",
    "표준 입력으로 나이(만 나이)가 입력됩니다(입력 값은 7 이상 입력됨). 교통카드 시스템에서 시내버스 요금은 다음과 같으며 각 나이에 맞게 요금을 차감한 뒤 잔액이 출력되게 만드세요(if, elif 사용). 현재 교통카드에는 9,000원이 들어있습니다.\n",
    "\n",
    "어린이(초등학생, 만 7세 이상 12세 이하): 650원\n",
    "청소년(중∙고등학생, 만 13세 이상 18세 이하): 1,050원\n",
    "어른(일반, 만 19세 이상): 1,250원"
   ]
  },
  {
   "cell_type": "code",
   "execution_count": 3,
   "id": "20b1210e",
   "metadata": {},
   "outputs": [
    {
     "name": "stdout",
     "output_type": "stream",
     "text": [
      "12\n",
      "8350\n"
     ]
    }
   ],
   "source": [
    "age = int(input())\n",
    "balance = 9000 # 교통카드 잔액\n",
    "\n",
    "\n",
    "if 7 <= age <= 12:\n",
    "    balance = balance - 650\n",
    "elif 13<= age <= 18:\n",
    "    balance = balance - 1050\n",
    "elif 19 <= age:\n",
    "    balance = balance - 1250\n",
    "    \n",
    "print(balance)"
   ]
  },
  {
   "cell_type": "markdown",
   "id": "2eb75c63",
   "metadata": {},
   "source": [
    "# 16.5 심사문제\n",
    "표준 입력으로 정수가 입력됩니다. 입력된 정수의 구구단을 출력하는 프로그램을 만드세요(input에서 안내 문자열은 출력하지 않아야 합니다). 출력 형식은 숫자 * 숫자 = 숫자처럼 만들고 숫자와 *, = 사이는 공백을 한 칸 띄웁니다."
   ]
  },
  {
   "cell_type": "code",
   "execution_count": 24,
   "id": "eaf2fe2f",
   "metadata": {},
   "outputs": [
    {
     "name": "stdout",
     "output_type": "stream",
     "text": [
      "2\n",
      "2 * 1 = 2\n",
      "2 * 2 = 4\n",
      "2 * 3 = 6\n",
      "2 * 4 = 8\n",
      "2 * 5 = 10\n",
      "2 * 6 = 12\n",
      "2 * 7 = 14\n",
      "2 * 8 = 16\n",
      "2 * 9 = 18\n"
     ]
    }
   ],
   "source": [
    "number = int(input())\n",
    "for i in range(1, 10):\n",
    "    print('{} * {} = {}'.format(number, i, number*i))"
   ]
  },
  {
   "cell_type": "markdown",
   "id": "b3f8de4e",
   "metadata": {},
   "source": [
    "# 17.6 심사문제\n",
    "표준 입력으로 금액(정수)이 입력됩니다. 1회당 요금은 1,350원이고, 교통카드를 사용했을 때마다의 잔액을 각 줄에 출력하는 프로그램을 만드세요(input에서 안내 문자열은 출력하지 않아야 합니다). 단, 최초 금액은 출력하지 않아야 합니다. 그리고 잔액은 음수가 될 수 없으며 잔액이 부족하면 출력을 끝냅니다."
   ]
  },
  {
   "cell_type": "code",
   "execution_count": 50,
   "id": "4d5be9bf",
   "metadata": {},
   "outputs": [
    {
     "name": "stdout",
     "output_type": "stream",
     "text": [
      "13500\n",
      "12150\n",
      "10800\n",
      "9450\n",
      "8100\n",
      "6750\n",
      "5400\n",
      "4050\n",
      "2700\n",
      "1350\n",
      "0\n"
     ]
    }
   ],
   "source": [
    "input_money = int(input())\n",
    "while input_money - 1350 >= 0:\n",
    "    input_money -= 1350\n",
    "    print(input_money)"
   ]
  },
  {
   "cell_type": "markdown",
   "id": "0b5b6d9a",
   "metadata": {},
   "source": [
    "# 18.6 심사문제\n",
    "표준 입력으로 정수 두 개가 입력됩니다(첫 번째 입력 값의 범위는 1\\~200, 두 번째 입력 값의 범위는 10\\~200이며 첫 번째 입력 값은 두 번째 입력 값보다 항상 작습니다). 다음 소스 코드를 완성하여 첫 번째 정수와 두 번째 정수 사이의 숫자 중 3으로 끝나지 않는 숫자가 출력되게 만드세요. 정답에 코드를 작성할 때는 while True:에 맞춰서 들여쓰기를 해주세요."
   ]
  },
  {
   "cell_type": "code",
   "execution_count": 52,
   "id": "e3098fac",
   "metadata": {},
   "outputs": [
    {
     "name": "stdout",
     "output_type": "stream",
     "text": [
      "1 20\n",
      "1 2 4 5 6 7 8 9 10 11 12 14 15 16 17 18 19 20 "
     ]
    }
   ],
   "source": [
    "start, stop = map(int, input().split())\n",
    "i=start\n",
    "\n",
    "\n",
    "while True:\n",
    "    if i > stop:\n",
    "        break\n",
    "    if i % 10 == 3:\n",
    "        i += 1\n",
    "        continue\n",
    "    print(i, end = ' ')\n",
    "    i += 1"
   ]
  },
  {
   "cell_type": "code",
   "execution_count": null,
   "id": "5a592f86",
   "metadata": {},
   "outputs": [],
   "source": []
  },
  {
   "cell_type": "markdown",
   "id": "7a497bc5",
   "metadata": {},
   "source": [
    "# 값 구하기\n",
    "\n",
    "a + b + c = 1000 (a < b < c) <br>\n",
    "a\\*a + b\\*b +c\\*c"
   ]
  },
  {
   "cell_type": "code",
   "execution_count": 40,
   "id": "51ea2426",
   "metadata": {},
   "outputs": [
    {
     "name": "stdout",
     "output_type": "stream",
     "text": [
      "200 375 425\n",
      "375 200 425\n"
     ]
    }
   ],
   "source": [
    "for a in range(1, 999):\n",
    "    for b in range(1, 1000-a):\n",
    "        c = 1000 - a - b\n",
    "        if a*a + b*b == c*c:\n",
    "            print(a, b, c)\n"
   ]
  },
  {
   "cell_type": "markdown",
   "id": "7f0643c7",
   "metadata": {},
   "source": [
    "# 만나이 구하기"
   ]
  },
  {
   "cell_type": "code",
   "execution_count": 39,
   "id": "2a1b4840",
   "metadata": {},
   "outputs": [
    {
     "name": "stdout",
     "output_type": "stream",
     "text": [
      "2021 7 29\n",
      "1986 07 30\n",
      "34\n"
     ]
    }
   ],
   "source": [
    "\n",
    "from datetime import date\n",
    "today = date.today()\n",
    "print(today.year, today.month, today.day)\n",
    "b_year, b_month, b_day = map(int, input().split())\n",
    "man_age = today.year - b_year\n",
    "if (today.month >= b_month)&(today.day >= b_day):\n",
    "    print(man_age)\n",
    "else:\n",
    "    print(man_age - 1)"
   ]
  },
  {
   "cell_type": "code",
   "execution_count": null,
   "id": "fe6997a5",
   "metadata": {},
   "outputs": [],
   "source": []
  },
  {
   "cell_type": "markdown",
   "id": "283f274e",
   "metadata": {},
   "source": [
    "# 추가문제\n",
    "\n",
    "- 디지털 시계에 하루동안 (00:00 ~ 23:59) 이 표시되는 시간을 초로 환산하면 총 몇 초(second) 일까요?\n",
    "- 디지털 시계는 하루동안 다음과 같이 시:분으로 표시됨."
   ]
  },
  {
   "cell_type": "code",
   "execution_count": 44,
   "id": "7d6384da",
   "metadata": {},
   "outputs": [
    {
     "name": "stdout",
     "output_type": "stream",
     "text": [
      "29700\n"
     ]
    }
   ],
   "source": [
    "count_sec = 0\n",
    "for hour in range(0, 24):\n",
    "    for minute in range(0, 60):\n",
    "        if (str(hour) + str(minute)).count('3') > 0:\n",
    "            count_sec += 1\n",
    "print(count_sec * 60)"
   ]
  },
  {
   "cell_type": "code",
   "execution_count": null,
   "id": "4da81e0c",
   "metadata": {},
   "outputs": [],
   "source": []
  }
 ],
 "metadata": {
  "kernelspec": {
   "display_name": "Python 3",
   "language": "python",
   "name": "python3"
  },
  "language_info": {
   "codemirror_mode": {
    "name": "ipython",
    "version": 3
   },
   "file_extension": ".py",
   "mimetype": "text/x-python",
   "name": "python",
   "nbconvert_exporter": "python",
   "pygments_lexer": "ipython3",
   "version": "3.8.8"
  }
 },
 "nbformat": 4,
 "nbformat_minor": 5
}
