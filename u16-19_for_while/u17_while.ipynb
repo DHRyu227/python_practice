{
 "cells": [
  {
   "cell_type": "markdown",
   "metadata": {
    "id": "N7WM5TZKAs22"
   },
   "source": [
    "# Unit 17. while 반복문"
   ]
  },
  {
   "cell_type": "markdown",
   "metadata": {
    "id": "kIoPnqk9AzFA"
   },
   "source": [
    "## 17.1 while 반복문\n",
    "- 반복횟수가 정해져 있는 반복문은 while을 쓰지 않는다."
   ]
  },
  {
   "cell_type": "markdown",
   "metadata": {
    "id": "HYJhPOObB8_S"
   },
   "source": [
    "## 17.2 반복 횟수가 없는 while 반복문"
   ]
  },
  {
   "cell_type": "code",
   "execution_count": 1,
   "metadata": {
    "id": "Ry1dmO0MAsNk"
   },
   "outputs": [],
   "source": [
    "import random"
   ]
  },
  {
   "cell_type": "code",
   "execution_count": 2,
   "metadata": {
    "colab": {
     "base_uri": "https://localhost:8080/"
    },
    "id": "OPt_iKpSCSMv",
    "outputId": "750f0126-f72e-4688-a90d-3e620b5ed7cc"
   },
   "outputs": [
    {
     "data": {
      "text/plain": [
       "0.2843785315735098"
      ]
     },
     "execution_count": 2,
     "metadata": {},
     "output_type": "execute_result"
    }
   ],
   "source": [
    "random.random()"
   ]
  },
  {
   "cell_type": "code",
   "execution_count": 3,
   "metadata": {
    "colab": {
     "base_uri": "https://localhost:8080/"
    },
    "id": "QHYS3Q-JCVLw",
    "outputId": "76650d93-94be-4a77-ef60-14787dc09c0a"
   },
   "outputs": [
    {
     "data": {
      "text/plain": [
       "5"
      ]
     },
     "execution_count": 3,
     "metadata": {},
     "output_type": "execute_result"
    }
   ],
   "source": [
    "random.randint(1, 6)"
   ]
  },
  {
   "cell_type": "code",
   "execution_count": 4,
   "metadata": {
    "colab": {
     "base_uri": "https://localhost:8080/"
    },
    "id": "ilX2BIV_CftD",
    "outputId": "23c7517b-3573-4ee4-a160-6afe1a360800"
   },
   "outputs": [
    {
     "name": "stdout",
     "output_type": "stream",
     "text": [
      "5\n",
      "3\n"
     ]
    }
   ],
   "source": [
    "i = 0\n",
    "while i != 3:\n",
    "    i = random.randint(1,6)\n",
    "    print(i)"
   ]
  },
  {
   "cell_type": "code",
   "execution_count": 5,
   "metadata": {
    "colab": {
     "base_uri": "https://localhost:8080/"
    },
    "id": "g9IdmC7ADBQI",
    "outputId": "85fb8cb9-dcd0-49cf-d160-3a302f1c5a84"
   },
   "outputs": [
    {
     "name": "stdout",
     "output_type": "stream",
     "text": [
      "1\n",
      "1\n",
      "4\n",
      "3\n"
     ]
    }
   ],
   "source": [
    "i = 0\n",
    "dice = [1,2,3,4,5,6]\n",
    "while i != 3:\n",
    "    i = random.choice(dice)\n",
    "    print(i)"
   ]
  },
  {
   "cell_type": "code",
   "execution_count": 6,
   "metadata": {
    "colab": {
     "base_uri": "https://localhost:8080/"
    },
    "id": "9zrCgn8UDXni",
    "outputId": "b5b0fab4-9bf0-42af-87ce-7d5c7324f13f"
   },
   "outputs": [
    {
     "data": {
      "text/plain": [
       "[5, 1, 4, 2, 3, 6]"
      ]
     },
     "execution_count": 6,
     "metadata": {},
     "output_type": "execute_result"
    }
   ],
   "source": [
    "random.sample(dice, 6)"
   ]
  },
  {
   "cell_type": "code",
   "execution_count": null,
   "metadata": {
    "id": "JxpgQ1HoDmcH"
   },
   "outputs": [],
   "source": []
  }
 ],
 "metadata": {
  "colab": {
   "collapsed_sections": [],
   "name": "u17_while반복문.ipynb",
   "provenance": []
  },
  "kernelspec": {
   "display_name": "Python 3",
   "language": "python",
   "name": "python3"
  },
  "language_info": {
   "codemirror_mode": {
    "name": "ipython",
    "version": 3
   },
   "file_extension": ".py",
   "mimetype": "text/x-python",
   "name": "python",
   "nbconvert_exporter": "python",
   "pygments_lexer": "ipython3",
   "version": "3.8.8"
  }
 },
 "nbformat": 4,
 "nbformat_minor": 1
}
