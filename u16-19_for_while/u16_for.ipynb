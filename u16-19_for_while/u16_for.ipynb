{
 "cells": [
  {
   "cell_type": "markdown",
   "metadata": {
    "id": "IaEe8G4ks7Ly"
   },
   "source": [
    "# Unit 16. for 반복문"
   ]
  },
  {
   "cell_type": "markdown",
   "metadata": {
    "id": "-NFeVv-YtAma"
   },
   "source": [
    "## 16.1 for와 range"
   ]
  },
  {
   "cell_type": "code",
   "execution_count": 1,
   "metadata": {
    "colab": {
     "base_uri": "https://localhost:8080/"
    },
    "id": "aSspUzeOszwb",
    "outputId": "902780ab-5c90-4c31-8f2a-d341518121e7"
   },
   "outputs": [
    {
     "name": "stdout",
     "output_type": "stream",
     "text": [
      "Hello, world!\n",
      "Hello, world!\n",
      "Hello, world!\n",
      "Hello, world!\n",
      "Hello, world!\n",
      "Hello, world!\n",
      "Hello, world!\n",
      "Hello, world!\n",
      "Hello, world!\n",
      "Hello, world!\n"
     ]
    }
   ],
   "source": [
    "for i in range(10):\n",
    "    print('Hello, world!')"
   ]
  },
  {
   "cell_type": "code",
   "execution_count": 2,
   "metadata": {
    "colab": {
     "base_uri": "https://localhost:8080/"
    },
    "id": "plT_PO6wtb2E",
    "outputId": "3c25448a-4033-41bb-aaa9-ec0d316c180c"
   },
   "outputs": [
    {
     "name": "stdout",
     "output_type": "stream",
     "text": [
      "Hello, world! 0\n",
      "Hello, world! 1\n",
      "Hello, world! 2\n",
      "Hello, world! 3\n",
      "Hello, world! 4\n",
      "Hello, world! 5\n",
      "Hello, world! 6\n",
      "Hello, world! 7\n",
      "Hello, world! 8\n",
      "Hello, world! 9\n"
     ]
    }
   ],
   "source": [
    "for i in range(10):\n",
    "    print('Hello, world!', i)"
   ]
  },
  {
   "cell_type": "code",
   "execution_count": 3,
   "metadata": {
    "colab": {
     "base_uri": "https://localhost:8080/"
    },
    "id": "r8uLJHRRvNpQ",
    "outputId": "d1b83665-44ee-4f12-ead2-dfc2ee680920"
   },
   "outputs": [
    {
     "name": "stdout",
     "output_type": "stream",
     "text": [
      "Hello, world!\n",
      "Hello, world!\n",
      "Hello, world!\n",
      "Hello, world!\n",
      "Hello, world!\n"
     ]
    }
   ],
   "source": [
    "for _ in range(5):\n",
    "    print('Hello, world!')"
   ]
  },
  {
   "cell_type": "markdown",
   "metadata": {
    "id": "Ovzyyx-tx2r-"
   },
   "source": [
    "## 16.2 for와 range 응용"
   ]
  },
  {
   "cell_type": "code",
   "execution_count": 4,
   "metadata": {
    "colab": {
     "base_uri": "https://localhost:8080/"
    },
    "id": "6sxxPduTvgB8",
    "outputId": "8ea35da6-b6eb-415f-b746-dc6319b729ea"
   },
   "outputs": [
    {
     "name": "stdout",
     "output_type": "stream",
     "text": [
      "Hello, world! 6\n",
      "Hello, world! 7\n",
      "Hello, world! 8\n",
      "Hello, world! 9\n"
     ]
    }
   ],
   "source": [
    "for i in range(6, 10):\n",
    "    print('Hello, world!', i)"
   ]
  },
  {
   "cell_type": "code",
   "execution_count": 5,
   "metadata": {
    "colab": {
     "base_uri": "https://localhost:8080/"
    },
    "id": "IvCbwK1byHTC",
    "outputId": "4d62287b-9c13-48dc-8451-2bc4adec6d14"
   },
   "outputs": [
    {
     "name": "stdout",
     "output_type": "stream",
     "text": [
      "Hello, world! 0\n",
      "Hello, world! 2\n",
      "Hello, world! 4\n",
      "Hello, world! 6\n",
      "Hello, world! 8\n"
     ]
    }
   ],
   "source": [
    "for i in range(0, 10, 2):\n",
    "    print('Hello, world!', i)"
   ]
  },
  {
   "cell_type": "code",
   "execution_count": 6,
   "metadata": {
    "colab": {
     "base_uri": "https://localhost:8080/"
    },
    "id": "0gOGhhpxyOTK",
    "outputId": "91e74a0c-cf14-4f7a-9614-40dfb2ba6c4b"
   },
   "outputs": [
    {
     "name": "stdout",
     "output_type": "stream",
     "text": [
      "Hello, world! 10\n",
      "Hello, world! 8\n",
      "Hello, world! 6\n",
      "Hello, world! 4\n",
      "Hello, world! 2\n"
     ]
    }
   ],
   "source": [
    "for i in range(10, 0, -2):\n",
    "    print('Hello, world!', i)"
   ]
  },
  {
   "cell_type": "code",
   "execution_count": 7,
   "metadata": {
    "colab": {
     "base_uri": "https://localhost:8080/"
    },
    "id": "ZrK51z0pyXB1",
    "outputId": "0fc6e7e3-2d50-43d7-c9e9-decf17edb96e"
   },
   "outputs": [
    {
     "name": "stdout",
     "output_type": "stream",
     "text": [
      "1 2 Fizz 4 Buzz Fizz 7 8 Fizz Buzz \n",
      "11 Fizz 13 14 FizzBuzz 16 17 Fizz 19 Buzz \n",
      "Fizz 22 23 Fizz Buzz 26 Fizz 28 29 FizzBuzz \n",
      "31 32 Fizz 34 Buzz Fizz 37 38 Fizz Buzz \n",
      "41 Fizz 43 44 FizzBuzz 46 47 Fizz 49 Buzz \n",
      "Fizz 52 53 Fizz Buzz 56 Fizz 58 59 FizzBuzz \n",
      "61 62 Fizz 64 Buzz Fizz 67 68 Fizz Buzz \n",
      "71 Fizz 73 74 FizzBuzz 76 77 Fizz 79 Buzz \n",
      "Fizz 82 83 Fizz Buzz 86 Fizz 88 89 FizzBuzz \n",
      "91 92 Fizz 94 Buzz Fizz 97 98 Fizz Buzz \n"
     ]
    }
   ],
   "source": [
    "for i in range(1, 101):\n",
    "    print('Fizz'*(i%3==0) + 'Buzz'*(i%5==0) or i, end=' ')\n",
    "    if (i % 10 == 0):\n",
    "        print()"
   ]
  },
  {
   "cell_type": "markdown",
   "metadata": {
    "id": "DMi65009z3QR"
   },
   "source": [
    "## 16.3 시퀀스 객체 반복"
   ]
  },
  {
   "cell_type": "code",
   "execution_count": 8,
   "metadata": {
    "colab": {
     "base_uri": "https://localhost:8080/"
    },
    "id": "WzR-eQVrzJtP",
    "outputId": "51e107b3-75ff-41e5-a9c8-a66114a528cf"
   },
   "outputs": [
    {
     "name": "stdout",
     "output_type": "stream",
     "text": [
      "apple\n",
      "banana\n",
      "cherry\n"
     ]
    }
   ],
   "source": [
    "fruits = ['apple', 'banana', 'cherry']\n",
    "for element in fruits:\n",
    "    print(element)"
   ]
  },
  {
   "cell_type": "code",
   "execution_count": 9,
   "metadata": {
    "colab": {
     "base_uri": "https://localhost:8080/"
    },
    "id": "RG1EYJXF0Lwh",
    "outputId": "53cc7d1e-5adb-4ca5-b7bd-a7b75ad72059"
   },
   "outputs": [
    {
     "name": "stdout",
     "output_type": "stream",
     "text": [
      "apple\n",
      "banana\n",
      "cherry\n"
     ]
    }
   ],
   "source": [
    "fruit_list = ['apple', 'banana', 'cherry']\n",
    "for fruit in fruit_list:\n",
    "    print(fruit)"
   ]
  },
  {
   "cell_type": "code",
   "execution_count": 10,
   "metadata": {
    "colab": {
     "base_uri": "https://localhost:8080/"
    },
    "id": "YhieQCvr0eyO",
    "outputId": "f23581d3-5e24-4a4c-b325-837e2f880398"
   },
   "outputs": [
    {
     "name": "stdout",
     "output_type": "stream",
     "text": [
      "Python"
     ]
    }
   ],
   "source": [
    "for letter in 'Python':\n",
    "    print(letter, end='')"
   ]
  },
  {
   "cell_type": "code",
   "execution_count": 11,
   "metadata": {
    "colab": {
     "base_uri": "https://localhost:8080/"
    },
    "id": "vddLvbtI2YBu",
    "outputId": "21d20f1a-17df-4dcf-b112-4c4349aba507"
   },
   "outputs": [
    {
     "name": "stdout",
     "output_type": "stream",
     "text": [
      "n n n n n n "
     ]
    }
   ],
   "source": [
    "for char in reversed('Python'):\n",
    "    print(letter, end=' ')"
   ]
  },
  {
   "cell_type": "code",
   "execution_count": 12,
   "metadata": {
    "colab": {
     "base_uri": "https://localhost:8080/"
    },
    "id": "PiszvoKL2sZc",
    "outputId": "0295a183-3989-4b94-aa2e-997827deee8a"
   },
   "outputs": [
    {
     "name": "stdout",
     "output_type": "stream",
     "text": [
      "10\n",
      "20\n",
      "30\n"
     ]
    }
   ],
   "source": [
    "for number in (10, 20, 30):\n",
    "    print(number)"
   ]
  },
  {
   "cell_type": "markdown",
   "metadata": {
    "id": "HBG3ZK-c3hkE"
   },
   "source": [
    "### Perfect Number\n",
    "- 자기자신을 제외한 약수의 합이 자기자신과 같은 수\n",
    "- 6의 약수: 1, 2, 3, 6\n",
    "- 6 = 1 + 2 + 3\n",
    "- 10000이하의 자연수 중에서는 4개"
   ]
  },
  {
   "cell_type": "code",
   "execution_count": 15,
   "metadata": {
    "colab": {
     "base_uri": "https://localhost:8080/"
    },
    "id": "ICBK8BCj4vkj",
    "outputId": "00329abd-b865-4b43-8128-b3bcb3304a63"
   },
   "outputs": [
    {
     "name": "stdout",
     "output_type": "stream",
     "text": [
      "6\n",
      "28\n",
      "496\n",
      "8128\n"
     ]
    }
   ],
   "source": [
    "for i in range(1, 10001):\n",
    "    find_num = [k for k in range(1, i) if (i % k == 0)]\n",
    "    if (sum(find_num) == i):\n",
    "        print(i)"
   ]
  },
  {
   "cell_type": "code",
   "execution_count": null,
   "metadata": {
    "id": "lT2YHBYP9RnM"
   },
   "outputs": [],
   "source": []
  },
  {
   "cell_type": "code",
   "execution_count": null,
   "metadata": {},
   "outputs": [],
   "source": []
  }
 ],
 "metadata": {
  "colab": {
   "collapsed_sections": [],
   "name": "u16_for반복문.ipynb",
   "provenance": []
  },
  "kernelspec": {
   "display_name": "Python 3",
   "language": "python",
   "name": "python3"
  },
  "language_info": {
   "codemirror_mode": {
    "name": "ipython",
    "version": 3
   },
   "file_extension": ".py",
   "mimetype": "text/x-python",
   "name": "python",
   "nbconvert_exporter": "python",
   "pygments_lexer": "ipython3",
   "version": "3.8.8"
  }
 },
 "nbformat": 4,
 "nbformat_minor": 1
}
